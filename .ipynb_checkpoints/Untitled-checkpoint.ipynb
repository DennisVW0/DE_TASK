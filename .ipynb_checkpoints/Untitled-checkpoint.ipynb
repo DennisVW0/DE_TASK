{
 "cells": [
  {
   "cell_type": "code",
   "execution_count": 1,
   "id": "4fc44ffe-a0aa-4035-8e72-3ba8cac8d0ac",
   "metadata": {},
   "outputs": [],
   "source": [
    "from flask import Flask, request, jsonify\n",
    "import requests"
   ]
  },
  {
   "cell_type": "code",
   "execution_count": 2,
   "id": "74b58a4b-31a6-41e9-aa1a-68c8fe3600a3",
   "metadata": {},
   "outputs": [],
   "source": [
    "app = Flask(__name__)"
   ]
  },
  {
   "cell_type": "code",
   "execution_count": 3,
   "id": "42dd96ec-c0a7-4b75-bfc5-096f6a8a7786",
   "metadata": {},
   "outputs": [],
   "source": [
    "# Fetch data from the provided API\n",
    "def fetch_api_data():\n",
    "    try:\n",
    "        response = requests.get(\"https://api.publicapis.org/entries\")\n",
    "        response.raise_for_status()\n",
    "        data = response.json()\n",
    "        return data['entries']\n",
    "    except requests.exceptions.RequestException as e:\n",
    "        print(f\"Error fetching data from the API: {e}\")\n",
    "        return []"
   ]
  },
  {
   "cell_type": "code",
   "execution_count": 4,
   "id": "952045da-4372-4993-b0d7-2b6fc902976c",
   "metadata": {},
   "outputs": [],
   "source": [
    "\n",
    "# Filter data to include only HTTPS links\n",
    "def filter_data(data):\n",
    "    return [entry for entry in data if entry['HTTPS']]"
   ]
  },
  {
   "cell_type": "code",
   "execution_count": 5,
   "id": "6f2d95c9-e3b2-43d8-a191-e72beb6549ab",
   "metadata": {},
   "outputs": [],
   "source": [
    "# Fetch and filter data\n",
    "api_data = fetch_api_data()\n",
    "filtered_api_data = filter_data(api_data)"
   ]
  },
  {
   "cell_type": "code",
   "execution_count": 6,
   "id": "2042fc6a-77c2-416c-bd6b-9fc95c62c996",
   "metadata": {},
   "outputs": [],
   "source": [
    "# Endpoint for /categories (Step 4)\n",
    "@app.route('/categories', methods=['GET'])\n",
    "def get_categories():\n",
    "    # Extract unique categories from the filtered data\n",
    "    categories = list(set(entry['Category'] for entry in filtered_api_data))\n",
    "\n",
    "    # Return categories as JSON\n",
    "    return jsonify(categories)"
   ]
  },
  {
   "cell_type": "code",
   "execution_count": 7,
   "id": "7adfb332-eba5-484e-a81f-2a04a0803db2",
   "metadata": {},
   "outputs": [],
   "source": [
    "# Endpoint for /data/{category} (Step 5)\n",
    "@app.route('/data/<category>', methods=['GET'])\n",
    "def get_data_by_category(category):\n",
    "    # Get the optional search query from the request\n",
    "    search_query = request.args.get('search_query')\n",
    "\n",
    "    # Filter data by category and optional search query (Step 6)\n",
    "    filtered_data = [entry for entry in filtered_api_data if entry['Category'] == category]\n",
    "\n",
    "    if search_query:\n",
    "        filtered_data = [entry for entry in filtered_data if\n",
    "                         search_query.lower() in entry['API'].lower() or\n",
    "                         search_query.lower() in entry['Description'].lower()]\n",
    "\n",
    "    # Return filtered data as JSON\n",
    "    return jsonify(filtered_data)"
   ]
  },
  {
   "cell_type": "code",
   "execution_count": 8,
   "id": "f4adbbd7-34bd-41a1-8026-1639cc5bb6c4",
   "metadata": {},
   "outputs": [
    {
     "name": "stdout",
     "output_type": "stream",
     "text": [
      " * Serving Flask app '__main__'\n",
      " * Debug mode: on\n"
     ]
    },
    {
     "name": "stderr",
     "output_type": "stream",
     "text": [
      "\u001b[31m\u001b[1mWARNING: This is a development server. Do not use it in a production deployment. Use a production WSGI server instead.\u001b[0m\n",
      " * Running on http://127.0.0.1:5000\n",
      "\u001b[33mPress CTRL+C to quit\u001b[0m\n",
      " * Restarting with stat\n",
      "0.00s - Debugger warning: It seems that frozen modules are being used, which may\n",
      "0.00s - make the debugger miss breakpoints. Please pass -Xfrozen_modules=off\n",
      "0.00s - to python to disable frozen modules.\n",
      "0.00s - Note: Debugging will proceed. Set PYDEVD_DISABLE_FILE_VALIDATION=1 to disable this validation.\n",
      "Traceback (most recent call last):\n",
      "  File \"<frozen runpy>\", line 198, in _run_module_as_main\n",
      "  File \"<frozen runpy>\", line 88, in _run_code\n",
      "  File \"/usr/local/lib/python3.11/site-packages/ipykernel_launcher.py\", line 17, in <module>\n",
      "    app.launch_new_instance()\n",
      "  File \"/usr/local/lib/python3.11/site-packages/traitlets/config/application.py\", line 1042, in launch_instance\n",
      "    app.initialize(argv)\n",
      "  File \"/usr/local/lib/python3.11/site-packages/traitlets/config/application.py\", line 113, in inner\n",
      "    return method(app, *args, **kwargs)\n",
      "           ^^^^^^^^^^^^^^^^^^^^^^^^^^^^\n",
      "  File \"/usr/local/lib/python3.11/site-packages/ipykernel/kernelapp.py\", line 689, in initialize\n",
      "    self.init_sockets()\n",
      "  File \"/usr/local/lib/python3.11/site-packages/ipykernel/kernelapp.py\", line 328, in init_sockets\n",
      "    self.shell_port = self._bind_socket(self.shell_socket, self.shell_port)\n",
      "                      ^^^^^^^^^^^^^^^^^^^^^^^^^^^^^^^^^^^^^^^^^^^^^^^^^^^^^\n",
      "  File \"/usr/local/lib/python3.11/site-packages/ipykernel/kernelapp.py\", line 252, in _bind_socket\n",
      "    return self._try_bind_socket(s, port)\n",
      "           ^^^^^^^^^^^^^^^^^^^^^^^^^^^^^^\n",
      "  File \"/usr/local/lib/python3.11/site-packages/ipykernel/kernelapp.py\", line 228, in _try_bind_socket\n",
      "    s.bind(\"tcp://%s:%i\" % (self.ip, port))\n",
      "  File \"/usr/local/lib/python3.11/site-packages/zmq/sugar/socket.py\", line 302, in bind\n",
      "    super().bind(addr)\n",
      "  File \"zmq/backend/cython/socket.pyx\", line 564, in zmq.backend.cython.socket.Socket.bind\n",
      "  File \"zmq/backend/cython/checkrc.pxd\", line 28, in zmq.backend.cython.checkrc._check_rc\n",
      "zmq.error.ZMQError: Address already in use (addr='tcp://127.0.0.1:62287')\n"
     ]
    },
    {
     "ename": "SystemExit",
     "evalue": "1",
     "output_type": "error",
     "traceback": [
      "An exception has occurred, use %tb to see the full traceback.\n",
      "\u001b[0;31mSystemExit\u001b[0m\u001b[0;31m:\u001b[0m 1\n"
     ]
    },
    {
     "name": "stderr",
     "output_type": "stream",
     "text": [
      "/usr/local/lib/python3.11/site-packages/IPython/core/interactiveshell.py:3516: UserWarning: To exit: use 'exit', 'quit', or Ctrl-D.\n",
      "  warn(\"To exit: use 'exit', 'quit', or Ctrl-D.\", stacklevel=1)\n"
     ]
    }
   ],
   "source": [
    "if __name__ == '__main__':\n",
    "    app.run(debug=True, port=8080)"
   ]
  }
 ],
 "metadata": {
  "kernelspec": {
   "display_name": "Python 3 (ipykernel)",
   "language": "python",
   "name": "python3"
  },
  "language_info": {
   "codemirror_mode": {
    "name": "ipython",
    "version": 3
   },
   "file_extension": ".py",
   "mimetype": "text/x-python",
   "name": "python",
   "nbconvert_exporter": "python",
   "pygments_lexer": "ipython3",
   "version": "3.11.4"
  }
 },
 "nbformat": 4,
 "nbformat_minor": 5
}
